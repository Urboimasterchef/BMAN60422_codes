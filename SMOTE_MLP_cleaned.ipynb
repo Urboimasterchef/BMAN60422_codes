{
 "cells": [
  {
   "cell_type": "code",
   "execution_count": 1,
   "id": "19b4acbf",
   "metadata": {},
   "outputs": [],
   "source": [
    "# Imports\n",
    "import pandas as pd\n",
    "from sklearn.model_selection import train_test_split\n",
    "from sklearn.preprocessing import StandardScaler\n",
    "from sklearn.neural_network import MLPClassifier\n",
    "from sklearn.metrics import classification_report, roc_auc_score\n",
    "\n",
    "# Load pre-split SMOTE-balanced datasets\n",
    "X_train = pd.read_csv(\"x_train_smote2.csv\")\n",
    "X_test = pd.read_csv(\"x_test_smote2.csv\")\n",
    "y_train = pd.read_csv(\"y_train_smote2.csv\").squeeze()\n",
    "y_test = pd.read_csv(\"y_test_smote2.csv\").squeeze()\n"
   ]
  },
  {
   "cell_type": "code",
   "execution_count": 2,
   "id": "3eadf921",
   "metadata": {},
   "outputs": [],
   "source": [
    "\n",
    "scaler = StandardScaler()\n",
    "X_train_scaled = scaler.fit_transform(X_train)\n",
    "X_test_scaled = scaler.transform(X_test)"
   ]
  },
  {
   "cell_type": "code",
   "execution_count": 3,
   "id": "6f1fa647",
   "metadata": {},
   "outputs": [],
   "source": [
    "# Train the MLPClassifier\n",
    "mlp = MLPClassifier(hidden_layer_sizes=(64, 32), max_iter=300, activation='relu', solver='adam', random_state=42)\n",
    "mlp.fit(X_train_scaled, y_train)\n",
    "\n",
    "# Predict\n",
    "y_pred = mlp.predict(X_test_scaled)\n",
    "y_proba = mlp.predict_proba(X_test_scaled)[:, 1]"
   ]
  },
  {
   "cell_type": "code",
   "execution_count": 4,
   "id": "8ab8e12b",
   "metadata": {},
   "outputs": [
    {
     "name": "stdout",
     "output_type": "stream",
     "text": [
      "              precision    recall  f1-score   support\n",
      "\n",
      "           0       0.95      0.95      0.95       932\n",
      "           1       0.81      0.81      0.81       228\n",
      "\n",
      "    accuracy                           0.93      1160\n",
      "   macro avg       0.88      0.88      0.88      1160\n",
      "weighted avg       0.93      0.93      0.93      1160\n",
      "\n",
      "ROC AUC Score: 0.9322\n"
     ]
    }
   ],
   "source": [
    "# Evaluate model\n",
    "print(classification_report(y_test, y_pred))\n",
    "roc_auc = roc_auc_score(y_test, y_proba)\n",
    "print(f'ROC AUC Score: {roc_auc:.4f}')"
   ]
  },
  {
   "cell_type": "code",
   "execution_count": 5,
   "id": "412bb635-8ece-4001-b061-8e8b541a5a10",
   "metadata": {},
   "outputs": [
    {
     "name": "stdout",
     "output_type": "stream",
     "text": [
      "Fitting 5 folds for each of 8 candidates, totalling 40 fits\n",
      "Best Parameters: {'activation': 'tanh', 'alpha': 0.0001, 'hidden_layer_sizes': (64, 32), 'learning_rate': 'constant', 'solver': 'adam'}\n",
      "Best ROC AUC Score: 0.9739760908764646\n"
     ]
    },
    {
     "name": "stderr",
     "output_type": "stream",
     "text": [
      "C:\\Users\\akara\\anaconda3\\Lib\\site-packages\\sklearn\\neural_network\\_multilayer_perceptron.py:691: ConvergenceWarning: Stochastic Optimizer: Maximum iterations (300) reached and the optimization hasn't converged yet.\n",
      "  warnings.warn(\n"
     ]
    }
   ],
   "source": [
    "from sklearn.model_selection import GridSearchCV\n",
    "from sklearn.neural_network import MLPClassifier\n",
    "\n",
    "# Define parameter grid\n",
    "param_grid = {\n",
    "    'hidden_layer_sizes': [(64, 32), (50, 50)],\n",
    "    'activation': ['relu', 'tanh'],\n",
    "    'solver': ['adam'],\n",
    "    'alpha': [0.0001, 0.001],\n",
    "    'learning_rate': ['constant']\n",
    "}\n",
    "\n",
    "# Initialize model\n",
    "mlp = MLPClassifier(max_iter=300, random_state=42)\n",
    "\n",
    "# Run Grid Search using default K-Fold CV (cv=5 by default)\n",
    "grid_search = GridSearchCV(estimator=mlp,\n",
    "                           param_grid=param_grid,\n",
    "                           cv=5,  # Default K-Fold (not stratified)\n",
    "                           scoring='roc_auc',\n",
    "                           verbose=2,\n",
    "                           n_jobs=-1)\n",
    "\n",
    "# Fit on SMOTE-scaled training data\n",
    "grid_search.fit(X_train_scaled, y_train)\n",
    "\n",
    "# Display results\n",
    "print(\"Best Parameters:\", grid_search.best_params_)\n",
    "print(\"Best ROC AUC Score:\", grid_search.best_score_)\n"
   ]
  },
  {
   "cell_type": "code",
   "execution_count": 7,
   "id": "565a4cf6-d643-46d9-b13c-cd76b7a2b0ea",
   "metadata": {},
   "outputs": [
    {
     "name": "stdout",
     "output_type": "stream",
     "text": [
      "Precision:               0.8235\n",
      "Recall:                  0.7982\n",
      "Accuracy:                0.9267\n",
      "Specificity:             0.9582\n",
      "F1 Score:                0.8107\n",
      "Optimal Threshold (ROC): 0.2041\n",
      "\n",
      "Best Accuracy (Train):   0.9981\n",
      "Best Accuracy (Test):    0.9267\n",
      "Difference:              0.0714\n"
     ]
    },
    {
     "name": "stderr",
     "output_type": "stream",
     "text": [
      "C:\\Users\\akara\\anaconda3\\Lib\\site-packages\\sklearn\\neural_network\\_multilayer_perceptron.py:691: ConvergenceWarning: Stochastic Optimizer: Maximum iterations (300) reached and the optimization hasn't converged yet.\n",
      "  warnings.warn(\n"
     ]
    }
   ],
   "source": [
    "from sklearn.metrics import (\n",
    "    precision_score, recall_score, accuracy_score, f1_score,\n",
    "    confusion_matrix, roc_curve\n",
    ")\n",
    "\n",
    "# Check if grid search has run and has a best estimator\n",
    "if hasattr(grid_search, 'best_estimator_'):\n",
    "    best_model = grid_search.best_estimator_\n",
    "    best_model.fit(X_train_scaled, y_train)\n",
    "\n",
    "    y_train_pred = best_model.predict(X_train_scaled)\n",
    "    y_test_pred = best_model.predict(X_test_scaled)\n",
    "    y_test_proba = best_model.predict_proba(X_test_scaled)[:, 1]\n",
    "\n",
    "    tn, fp, fn, tp = confusion_matrix(y_test, y_test_pred).ravel()\n",
    "\n",
    "    precision = precision_score(y_test, y_test_pred)\n",
    "    recall = recall_score(y_test, y_test_pred)\n",
    "    accuracy = accuracy_score(y_test, y_test_pred)\n",
    "    f1 = f1_score(y_test, y_test_pred)\n",
    "    specificity = tn / (tn + fp)\n",
    "\n",
    "    fpr, tpr, thresholds = roc_curve(y_test, y_test_proba)\n",
    "    optimal_idx = (tpr - fpr).argmax()\n",
    "    optimal_threshold = thresholds[optimal_idx]\n",
    "\n",
    "    train_acc = accuracy_score(y_train, y_train_pred)\n",
    "    test_acc = accuracy_score(y_test, y_test_pred)\n",
    "    diff_acc = abs(train_acc - test_acc)\n",
    "\n",
    "    print(f\"Precision:               {precision:.4f}\")\n",
    "    print(f\"Recall:                  {recall:.4f}\")\n",
    "    print(f\"Accuracy:                {accuracy:.4f}\")\n",
    "    print(f\"Specificity:             {specificity:.4f}\")\n",
    "    print(f\"F1 Score:                {f1:.4f}\")\n",
    "    print(f\"Optimal Threshold (ROC): {optimal_threshold:.4f}\")\n",
    "    print()\n",
    "    print(f\"Best Accuracy (Train):   {train_acc:.4f}\")\n",
    "    print(f\"Best Accuracy (Test):    {test_acc:.4f}\")\n",
    "    print(f\"Difference:              {diff_acc:.4f}\")\n",
    "else:\n",
    "    print(\"Grid search was not successfully run or has no best_estimator_.\")\n",
    "\n"
   ]
  },
  {
   "cell_type": "code",
   "execution_count": null,
   "id": "19a078f0-3343-462a-b823-fd808deebb2e",
   "metadata": {},
   "outputs": [],
   "source": []
  }
 ],
 "metadata": {
  "kernelspec": {
   "display_name": "Python 3 (ipykernel)",
   "language": "python",
   "name": "python3"
  },
  "language_info": {
   "codemirror_mode": {
    "name": "ipython",
    "version": 3
   },
   "file_extension": ".py",
   "mimetype": "text/x-python",
   "name": "python",
   "nbconvert_exporter": "python",
   "pygments_lexer": "ipython3",
   "version": "3.12.4"
  }
 },
 "nbformat": 4,
 "nbformat_minor": 5
}
