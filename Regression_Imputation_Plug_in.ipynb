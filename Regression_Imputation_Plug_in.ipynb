{
  "nbformat": 4,
  "nbformat_minor": 0,
  "metadata": {
    "colab": {
      "provenance": []
    },
    "kernelspec": {
      "name": "python3",
      "display_name": "Python 3"
    },
    "language_info": {
      "name": "python"
    }
  },
  "cells": [
    {
      "cell_type": "markdown",
      "source": [
        "#Use this code when u want to focus only LR and ignore other transformation"
      ],
      "metadata": {
        "id": "pDiB5pHRfggl"
      }
    },
    {
      "cell_type": "code",
      "execution_count": null,
      "metadata": {
        "id": "WKqGZ3fBfbLr"
      },
      "outputs": [],
      "source": [
        "#Regression imputation for Value and MORTDUE\n",
        "\n",
        "from sklearn.linear_model import LinearRegression\n",
        "\n",
        "# Prepare the data\n",
        "valid_data = raw_data.dropna(subset=['mort_due', 'current_property_value'])\n",
        "\n",
        "# Train a model to predict 'current_property_value' based on 'mort_due'\n",
        "model_value = LinearRegression()\n",
        "model_value.fit(valid_data[['mort_due']], valid_data['current_property_value'])\n",
        "\n",
        "# Train a model to predict 'mort_due' based on 'current_property_value'\n",
        "model_mort_due = LinearRegression()\n",
        "model_mort_due.fit(valid_data[['current_property_value']], valid_data['mort_due'])\n",
        "\n",
        "# Creating columns for regression imputed values\n",
        "\n",
        "raw_data['reg_mort_due'] = raw_data['mort_due']\n",
        "raw_data['reg_current_property_value'] = raw_data['current_property_value']\n",
        "\n",
        "# Impute missing 'current_property_value' using the regression model\n",
        "missing_value = raw_data['current_property_value'].isnull() & raw_data['mort_due'].notnull()\n",
        "raw_data.loc[missing_value, 'reg_current_property_value'] = model_value.predict(raw_data.loc[missing_value, ['mort_due']])\n",
        "\n",
        "# Impute missing 'mort_due' using the regression model\n",
        "missing_mort_due = raw_data['mort_due'].isnull() & raw_data['current_property_value'].notnull()\n",
        "raw_data.loc[missing_mort_due, 'reg_mort_due'] = model_mort_due.predict(raw_data.loc[missing_mort_due, ['current_property_value']])\n",
        "\n",
        "# Handle cases where both values are missing (optional adjustment may be needed)\n",
        "raw_data.loc[\n",
        "    raw_data['mort_due'].isnull() & raw_data['current_property_value'].isnull(),\n",
        "    ['reg_mort_due', 'reg_current_property_value']\n",
        "] = 0  # or some other strategy for handling entirely missing cases\n"
      ]
    },
    {
      "cell_type": "code",
      "source": [
        "print(raw_data['reg_mort_due'].isnull().sum())\n",
        "print(raw_data['reg_current_property_value'].isnull().sum())"
      ],
      "metadata": {
        "id": "ykXRLPt6ffbz"
      },
      "execution_count": null,
      "outputs": []
    }
  ]
}