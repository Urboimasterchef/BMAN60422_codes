{
 "cells": [
  {
   "cell_type": "code",
   "execution_count": 41,
   "id": "24bff66b-1e8c-42b6-9096-526e62e4f886",
   "metadata": {},
   "outputs": [],
   "source": [
    "import pandas as pd"
   ]
  },
  {
   "cell_type": "code",
   "execution_count": 42,
   "id": "73014b4f-f724-4a95-812b-275367beea8b",
   "metadata": {},
   "outputs": [
    {
     "data": {
      "text/html": [
       "<div>\n",
       "<style scoped>\n",
       "    .dataframe tbody tr th:only-of-type {\n",
       "        vertical-align: middle;\n",
       "    }\n",
       "\n",
       "    .dataframe tbody tr th {\n",
       "        vertical-align: top;\n",
       "    }\n",
       "\n",
       "    .dataframe thead th {\n",
       "        text-align: right;\n",
       "    }\n",
       "</style>\n",
       "<table border=\"1\" class=\"dataframe\">\n",
       "  <thead>\n",
       "    <tr style=\"text-align: right;\">\n",
       "      <th></th>\n",
       "      <th>BAD</th>\n",
       "      <th>LOAN</th>\n",
       "      <th>MORTDUE</th>\n",
       "      <th>VALUE</th>\n",
       "      <th>REASON</th>\n",
       "      <th>JOB</th>\n",
       "      <th>YOJ</th>\n",
       "      <th>DEROG</th>\n",
       "      <th>DELINQ</th>\n",
       "      <th>CLAGE</th>\n",
       "      <th>NINQ</th>\n",
       "      <th>CLNO</th>\n",
       "      <th>DEBTINC</th>\n",
       "    </tr>\n",
       "  </thead>\n",
       "  <tbody>\n",
       "    <tr>\n",
       "      <th>0</th>\n",
       "      <td>1</td>\n",
       "      <td>1100</td>\n",
       "      <td>25860.0</td>\n",
       "      <td>39025.0</td>\n",
       "      <td>HomeImp</td>\n",
       "      <td>Other</td>\n",
       "      <td>10.5</td>\n",
       "      <td>0.0</td>\n",
       "      <td>0.0</td>\n",
       "      <td>94.366667</td>\n",
       "      <td>1.0</td>\n",
       "      <td>9.0</td>\n",
       "      <td>NaN</td>\n",
       "    </tr>\n",
       "    <tr>\n",
       "      <th>1</th>\n",
       "      <td>1</td>\n",
       "      <td>1300</td>\n",
       "      <td>70053.0</td>\n",
       "      <td>68400.0</td>\n",
       "      <td>HomeImp</td>\n",
       "      <td>Other</td>\n",
       "      <td>7.0</td>\n",
       "      <td>0.0</td>\n",
       "      <td>2.0</td>\n",
       "      <td>121.833333</td>\n",
       "      <td>0.0</td>\n",
       "      <td>14.0</td>\n",
       "      <td>NaN</td>\n",
       "    </tr>\n",
       "    <tr>\n",
       "      <th>2</th>\n",
       "      <td>1</td>\n",
       "      <td>1500</td>\n",
       "      <td>13500.0</td>\n",
       "      <td>16700.0</td>\n",
       "      <td>HomeImp</td>\n",
       "      <td>Other</td>\n",
       "      <td>4.0</td>\n",
       "      <td>0.0</td>\n",
       "      <td>0.0</td>\n",
       "      <td>149.466667</td>\n",
       "      <td>1.0</td>\n",
       "      <td>10.0</td>\n",
       "      <td>NaN</td>\n",
       "    </tr>\n",
       "    <tr>\n",
       "      <th>3</th>\n",
       "      <td>1</td>\n",
       "      <td>1500</td>\n",
       "      <td>NaN</td>\n",
       "      <td>NaN</td>\n",
       "      <td>NaN</td>\n",
       "      <td>NaN</td>\n",
       "      <td>NaN</td>\n",
       "      <td>NaN</td>\n",
       "      <td>NaN</td>\n",
       "      <td>NaN</td>\n",
       "      <td>NaN</td>\n",
       "      <td>NaN</td>\n",
       "      <td>NaN</td>\n",
       "    </tr>\n",
       "    <tr>\n",
       "      <th>4</th>\n",
       "      <td>0</td>\n",
       "      <td>1700</td>\n",
       "      <td>97800.0</td>\n",
       "      <td>112000.0</td>\n",
       "      <td>HomeImp</td>\n",
       "      <td>Office</td>\n",
       "      <td>3.0</td>\n",
       "      <td>0.0</td>\n",
       "      <td>0.0</td>\n",
       "      <td>93.333333</td>\n",
       "      <td>0.0</td>\n",
       "      <td>14.0</td>\n",
       "      <td>NaN</td>\n",
       "    </tr>\n",
       "  </tbody>\n",
       "</table>\n",
       "</div>"
      ],
      "text/plain": [
       "   BAD  LOAN  MORTDUE     VALUE   REASON     JOB   YOJ  DEROG  DELINQ  \\\n",
       "0    1  1100  25860.0   39025.0  HomeImp   Other  10.5    0.0     0.0   \n",
       "1    1  1300  70053.0   68400.0  HomeImp   Other   7.0    0.0     2.0   \n",
       "2    1  1500  13500.0   16700.0  HomeImp   Other   4.0    0.0     0.0   \n",
       "3    1  1500      NaN       NaN      NaN     NaN   NaN    NaN     NaN   \n",
       "4    0  1700  97800.0  112000.0  HomeImp  Office   3.0    0.0     0.0   \n",
       "\n",
       "        CLAGE  NINQ  CLNO  DEBTINC  \n",
       "0   94.366667   1.0   9.0      NaN  \n",
       "1  121.833333   0.0  14.0      NaN  \n",
       "2  149.466667   1.0  10.0      NaN  \n",
       "3         NaN   NaN   NaN      NaN  \n",
       "4   93.333333   0.0  14.0      NaN  "
      ]
     },
     "execution_count": 42,
     "metadata": {},
     "output_type": "execute_result"
    }
   ],
   "source": [
    "raw_data = pd.read_csv(\"data.csv\")\n",
    "raw_data.head()"
   ]
  },
  {
   "cell_type": "code",
   "execution_count": 43,
   "id": "ebe1594e-3472-4294-831e-4febb6e6100b",
   "metadata": {},
   "outputs": [],
   "source": [
    "# Rename columns for clarity\n",
    "raw_data.rename(columns={\\\n",
    "                                'BAD': 'bad_flag',\\\n",
    "                                'LOAN': 'loan_amt_requested',\\\n",
    "                                'MORTDUE': 'mort_due',\\\n",
    "                                'VALUE': 'current_property_value',\\\n",
    "                                'REASON': 'loan_reason',\\\n",
    "                                'JOB': 'job',\\\n",
    "                                'YOJ': 'years_on_job',\\\n",
    "                                'DEROG': 'no_of_derog',\\\n",
    "                                'DELINQ': 'no_of_delinq',\\\n",
    "                                'CLAGE': 'age_of_oldest_cl',\\\n",
    "                                'NINQ': 'no_of_recent_credit_inquiries',\\\n",
    "                                'CLNO': 'no_of_cl',\\\n",
    "                                'DEBTINC': 'debt_to_income_ratio'\\\n",
    "                                }, inplace=True)\n",
    "\n",
    "# Convert 'loan_reason' and 'job' to string type\n",
    "raw_data['loan_reason'] = raw_data['loan_reason'].astype(str)\n",
    "raw_data['job'] = raw_data['job'].astype(str)\n"
   ]
  },
  {
   "cell_type": "code",
   "execution_count": 44,
   "id": "4ec760a4-9244-4de0-9fd8-ce8b3b9cae87",
   "metadata": {},
   "outputs": [
    {
     "name": "stdout",
     "output_type": "stream",
     "text": [
      "bad_flag\n",
      "0    4771\n",
      "1    1189\n",
      "Name: count, dtype: int64\n"
     ]
    }
   ],
   "source": [
    "# Count of 0s and 1s in bad_flag pre-removal\n",
    "print(raw_data['bad_flag'].value_counts())"
   ]
  },
  {
   "cell_type": "code",
   "execution_count": 45,
   "id": "449d79b1-4e78-4a86-9f9d-cf7e55012e76",
   "metadata": {},
   "outputs": [],
   "source": [
    "# Drop rows with more than 5 missing values\n",
    "raw_data = raw_data[raw_data.isnull().sum(axis=1) <= 5]"
   ]
  },
  {
   "cell_type": "code",
   "execution_count": 46,
   "id": "07803071-49ac-493d-b72c-b7f0eb0d4960",
   "metadata": {},
   "outputs": [
    {
     "name": "stdout",
     "output_type": "stream",
     "text": [
      "bad_flag\n",
      "0    4656\n",
      "1    1140\n",
      "Name: count, dtype: int64\n"
     ]
    }
   ],
   "source": [
    "# Count of 0s and 1s in bad_flag pre-removal\n",
    "print(raw_data['bad_flag'].value_counts())"
   ]
  },
  {
   "cell_type": "code",
   "execution_count": 47,
   "id": "8f494fbc-0a67-40a3-9556-f629e28da903",
   "metadata": {},
   "outputs": [
    {
     "data": {
      "text/plain": [
       "0.199496644295302"
      ]
     },
     "execution_count": 47,
     "metadata": {},
     "output_type": "execute_result"
    }
   ],
   "source": [
    "#Pre-removal bad%\n",
    "1189/(1189+4771)"
   ]
  },
  {
   "cell_type": "code",
   "execution_count": 48,
   "id": "26d0b941-adc5-470a-915b-8fddcc8894d7",
   "metadata": {},
   "outputs": [
    {
     "data": {
      "text/plain": [
       "0.19668737060041408"
      ]
     },
     "execution_count": 48,
     "metadata": {},
     "output_type": "execute_result"
    }
   ],
   "source": [
    "#Post-removal bad%\n",
    "1140/(4656+1140)"
   ]
  },
  {
   "cell_type": "code",
   "execution_count": 49,
   "id": "a0d00c22-3715-40a0-afb9-949382406d5a",
   "metadata": {},
   "outputs": [],
   "source": [
    "# Treating no_of_derog, no_of_delinq, and no_of_recent_credit_inquiries. Replace missing values with 0\n",
    "raw_data['no_of_derog'] = raw_data['no_of_derog'].fillna(0)\n",
    "raw_data['no_of_delinq'] = raw_data['no_of_delinq'].fillna(0)\n",
    "raw_data['no_of_recent_credit_inquiries'] = raw_data['no_of_recent_credit_inquiries'].fillna(0)\n"
   ]
  },
  {
   "cell_type": "code",
   "execution_count": 50,
   "id": "9a906947-bf2c-4d9b-8bac-0ffb9036f159",
   "metadata": {},
   "outputs": [],
   "source": [
    "## Treating age of oldest credit line and number of credit lines\n",
    "# Replace missing values in number of credit lines with 0\n",
    "raw_data['no_of_cl'] = raw_data['no_of_cl'].fillna(0)\n",
    "\n",
    "# Calculate mean of age_of_oldest_cl (excluding missing values)\n",
    "mean_clage = raw_data['age_of_oldest_cl'].mean()\n",
    "\n",
    "# Apply conditional imputation\n",
    "raw_data['age_of_oldest_cl'] = raw_data.apply(\n",
    "    lambda row: 0 if row['no_of_cl'] == 0 and pd.isnull(row['age_of_oldest_cl']) \n",
    "    else (mean_clage if pd.isnull(row['age_of_oldest_cl']) else row['age_of_oldest_cl']),\n",
    "    axis=1\n",
    ")"
   ]
  },
  {
   "cell_type": "code",
   "execution_count": 51,
   "id": "d067cd42-50fb-4965-a69d-9ab5826bef76",
   "metadata": {},
   "outputs": [],
   "source": [
    "## Treat Mort due and value\n",
    "# Step 1: Calculate median ratio of mort_due to value (for non-null entries)\n",
    "valid_ratio = raw_data.dropna(subset=['mort_due', 'current_property_value'])\n",
    "median_ratio = (valid_ratio['mort_due'] / valid_ratio['current_property_value']).median()\n",
    "\n",
    "# Case 1 missing property value byt mort due exist: Impute missing 'current_property_value' using 'mort_due'\n",
    "raw_data.loc[\n",
    "    raw_data['current_property_value'].isnull() & raw_data['mort_due'].notnull(),\n",
    "    'current_property_value'\n",
    "] = raw_data['mort_due'] / median_ratio\n",
    "\n",
    "# Case 2 missing mort due byt property value exist: Impute missing 'mort_due' using 'current_property_value'\n",
    "raw_data.loc[\n",
    "    raw_data['mort_due'].isnull() & raw_data['current_property_value'].notnull(),\n",
    "    'mort_due'\n",
    "] = raw_data['current_property_value'] * median_ratio\n",
    "\n",
    "# Case 3 All values missing: Fill rows with both mort_due and current_property_value missing with 0\n",
    "raw_data.loc[\n",
    "    raw_data['mort_due'].isnull() & raw_data['current_property_value'].isnull(),\n",
    "    ['mort_due', 'current_property_value']\n",
    "] = 0\n"
   ]
  },
  {
   "cell_type": "code",
   "execution_count": 52,
   "id": "15a47537-9530-4b1d-be37-20cec03a4d2b",
   "metadata": {},
   "outputs": [],
   "source": [
    "# Treat missing values for loan_reason and job with 'NonProvided'\n",
    "raw_data['loan_reason'] = raw_data['loan_reason'].replace(\"nan\", \"NonProvided\")\n",
    "raw_data['job'] = raw_data['job'].replace(\"nan\", \"NonProvided\")"
   ]
  },
  {
   "cell_type": "code",
   "execution_count": 53,
   "id": "5e5382a2-aab3-4f50-adc3-682d6e1941c5",
   "metadata": {},
   "outputs": [],
   "source": [
    "## Treat years on job\n",
    "\n",
    "# First, make sure years_on_job is numeric\n",
    "raw_data['years_on_job'] = pd.to_numeric(raw_data['years_on_job'], errors='coerce')\n",
    "\n",
    "# Create a mapping of median years_on_job for each job type (excluding 'NonProvided')\n",
    "job_medians = raw_data[raw_data['job'] != 'NonProvided'].groupby('job')['years_on_job'].median()\n",
    "\n",
    "# Define a function to apply the logic\n",
    "def impute_years_on_job(row):\n",
    "    if pd.notnull(row['years_on_job']):\n",
    "        return row['years_on_job']\n",
    "    elif row['job'] == 'NonProvided':\n",
    "        return 0\n",
    "    else:\n",
    "        return job_medians.get(row['job'], 0)\n",
    "\n",
    "# Apply the function row-wise\n",
    "raw_data['years_on_job'] = raw_data.apply(impute_years_on_job, axis=1)\n"
   ]
  },
  {
   "cell_type": "code",
   "execution_count": 54,
   "id": "ccadffdd-4ede-453a-8138-81a511261b2c",
   "metadata": {},
   "outputs": [],
   "source": [
    "##Treat Debt to income ratio by filling with median\n",
    "#### Fill no job as median for global debt to income ratio\n",
    "\n",
    "# Step 1: Calculate the global median for fallback\n",
    "median_dti = raw_data['debt_to_income_ratio'].median()\n",
    "\n",
    "# Step 2: Calculate the median DTI by job (excluding NonProvided)\n",
    "dti_medians = raw_data[raw_data['job'] != 'NonProvided'].groupby('job')['debt_to_income_ratio'].median()\n",
    "\n",
    "# Step 3: Define the imputation function\n",
    "def impute_dti(row):\n",
    "    if pd.notnull(row['debt_to_income_ratio']):\n",
    "        return row['debt_to_income_ratio']\n",
    "    elif row['job'] == 'NonProvided':\n",
    "        return median_dti\n",
    "    else:\n",
    "        return dti_medians.get(row['job'], median_dti)\n",
    "\n",
    "# Step 4: Apply the function to the dataset\n",
    "raw_data['debt_to_income_ratio'] = raw_data.apply(impute_dti, axis=1)\n",
    "\n"
   ]
  },
  {
   "cell_type": "code",
   "execution_count": 55,
   "id": "aedba578-02a0-4568-a3ac-fe5c31ae443c",
   "metadata": {},
   "outputs": [],
   "source": [
    "## Add Loan to Value Ratio\n",
    "# Avoid division by zero\n",
    "raw_data['loan_to_value_ratio'] = raw_data.apply(\n",
    "    lambda row: row['loan_amt_requested'] / row['current_property_value']\n",
    "    if row['current_property_value'] != 0 else 0,\n",
    "    axis=1\n",
    ")"
   ]
  },
  {
   "cell_type": "code",
   "execution_count": 56,
   "id": "8d6ecb00-8f09-446d-aa80-fe7ae58947c4",
   "metadata": {},
   "outputs": [],
   "source": [
    "## Add cl_delinquency_ratio \n",
    "# Calculate delinquency per credit line\n",
    "raw_data['cl_delinquency_ratio'] = raw_data.apply(\n",
    "    lambda row: row['no_of_delinq'] / row['no_of_cl']\n",
    "    if row['no_of_cl'] != 0 else 0,\n",
    "    axis=1\n",
    ")"
   ]
  },
  {
   "cell_type": "code",
   "execution_count": 57,
   "id": "9e0a1643-9b8b-43df-9956-dbb62f2fb52e",
   "metadata": {},
   "outputs": [],
   "source": [
    "## Add Income\n",
    "# Approximate income = mort_due / (DTI / 100)\n",
    "raw_data['approx_income'] = raw_data.apply(\n",
    "    lambda row: row['mort_due'] / (row['debt_to_income_ratio'] / 100)\n",
    "    if row['debt_to_income_ratio'] != 0 else 0,\n",
    "    axis=1\n",
    ")"
   ]
  },
  {
   "cell_type": "code",
   "execution_count": 58,
   "id": "01e5de9b-4da9-4657-aaf4-ee8ef9cc6629",
   "metadata": {},
   "outputs": [],
   "source": [
    "# Save files\n",
    "raw_data.to_csv('cleaned_data.csv', index=False)"
   ]
  },
  {
   "cell_type": "markdown",
   "id": "4613de12-1cf4-45af-a00d-b7e7a3ff79a4",
   "metadata": {},
   "source": [
    "# EDA"
   ]
  },
  {
   "cell_type": "code",
   "execution_count": 60,
   "id": "101cb08f-488f-4f17-9ee7-e2a94aeae3bf",
   "metadata": {},
   "outputs": [
    {
     "name": "stdout",
     "output_type": "stream",
     "text": [
      "Series([], dtype: int64)\n"
     ]
    }
   ],
   "source": [
    "# Show count of missing values per column\n",
    "null_counts = raw_data.isnull().sum()\n",
    "null_counts = null_counts[null_counts > 0]  # Filter only columns with missing values\n",
    "print(null_counts)\n"
   ]
  },
  {
   "cell_type": "code",
   "execution_count": null,
   "id": "6914a588-252a-498a-b4cd-367d70dff8f1",
   "metadata": {},
   "outputs": [],
   "source": []
  },
  {
   "cell_type": "code",
   "execution_count": null,
   "id": "c3be30e6-24db-4932-9a02-18c64d791a03",
   "metadata": {},
   "outputs": [],
   "source": []
  },
  {
   "cell_type": "code",
   "execution_count": null,
   "id": "992299f4-93ea-4e27-9f24-a7ede2d97ced",
   "metadata": {},
   "outputs": [],
   "source": []
  }
 ],
 "metadata": {
  "kernelspec": {
   "display_name": "Python 3 (ipykernel)",
   "language": "python",
   "name": "python3"
  },
  "language_info": {
   "codemirror_mode": {
    "name": "ipython",
    "version": 3
   },
   "file_extension": ".py",
   "mimetype": "text/x-python",
   "name": "python",
   "nbconvert_exporter": "python",
   "pygments_lexer": "ipython3",
   "version": "3.12.4"
  }
 },
 "nbformat": 4,
 "nbformat_minor": 5
}
